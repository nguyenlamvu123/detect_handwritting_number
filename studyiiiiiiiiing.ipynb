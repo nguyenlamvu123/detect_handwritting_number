{
 "cells": [
  {
   "cell_type": "code",
   "execution_count": 14,
   "id": "ce2b38c3-4cf2-4c36-9a49-7ab6123002c3",
   "metadata": {},
   "outputs": [
    {
     "name": "stderr",
     "output_type": "stream",
     "text": [
      "2024-01-10 12:05:31.450364: I tensorflow/core/platform/cpu_feature_guard.cc:182] This TensorFlow binary is optimized to use available CPU instructions in performance-critical operations.\n",
      "To enable the following instructions: AVX2 FMA, in other operations, rebuild TensorFlow with the appropriate compiler flags.\n"
     ]
    }
   ],
   "source": [
    "#site: https://thorpham.github.io/blog/Nh%E1%BA%ADn-d%E1%BA%A1ng-ch%E1%BB%AF-s%E1%BB%91-vi%E1%BA%BFt-tay\n",
    "import cv2\n",
    "import numpy as np\n",
    "from skimage.feature import hog\n",
    "from sklearn.svm import LinearSVC\n",
    "from keras.datasets import mnist\n",
    "from sklearn.metrics import accuracy_score\n",
    "#load data\n",
    "(X_train,y_train),(X_test,y_test) = mnist.load_data()"
   ]
  },
  {
   "cell_type": "code",
   "execution_count": 15,
   "id": "c5c7da54-bfb6-4018-9f2b-ce0863b4d26a",
   "metadata": {},
   "outputs": [],
   "source": [
    "#cho x_train\n",
    "X_train_feature = []\n",
    "for i in range(len(X_train)):\n",
    "    feature = hog(X_train[i],orientations=9,pixels_per_cell=(14,14),cells_per_block=(1,1),block_norm=\"L2\")\n",
    "    X_train_feature.append(feature)\n",
    "X_train_feature = np.array(X_train_feature,dtype = np.float32)\n",
    "\n",
    "#cho x_test\n",
    "X_test_feature = []\n",
    "for i in range(len(X_test)):\n",
    "    feature = hog(X_test[i],orientations=9,pixels_per_cell=(14,14),cells_per_block=(1,1),block_norm=\"L2\")\n",
    "    X_test_feature.append(feature)\n",
    "X_test_feature = np.array(X_test_feature,dtype=np.float32)"
   ]
  },
  {
   "cell_type": "code",
   "execution_count": 16,
   "id": "828d0db5-b08a-4bb1-9845-2c044fa54af1",
   "metadata": {},
   "outputs": [
    {
     "name": "stderr",
     "output_type": "stream",
     "text": [
      "/home/zaibachkhoa/Documents/detect_handwritting_number/venv/lib/python3.8/site-packages/sklearn/svm/_classes.py:32: FutureWarning: The default value of `dual` will change from `True` to `'auto'` in 1.5. Set the value of `dual` explicitly to suppress the warning.\n",
      "  warnings.warn(\n"
     ]
    },
    {
     "name": "stdout",
     "output_type": "stream",
     "text": [
      "0.8988\n"
     ]
    },
    {
     "name": "stderr",
     "output_type": "stream",
     "text": [
      "/home/zaibachkhoa/Documents/detect_handwritting_number/venv/lib/python3.8/site-packages/sklearn/svm/_base.py:1250: ConvergenceWarning: Liblinear failed to converge, increase the number of iterations.\n",
      "  warnings.warn(\n"
     ]
    }
   ],
   "source": [
    "model = LinearSVC(C=10)\n",
    "model.fit(X_train_feature,y_train)\n",
    "y_pre = model.predict(X_test_feature)\n",
    "print(accuracy_score(y_test,y_pre))"
   ]
  },
  {
   "cell_type": "code",
   "execution_count": 18,
   "id": "7990a3ee-1a4f-4472-b2bc-355e65c4a298",
   "metadata": {},
   "outputs": [
    {
     "name": "stderr",
     "output_type": "stream",
     "text": [
      "Warning: Ignoring XDG_SESSION_TYPE=wayland on Gnome. Use QT_QPA_PLATFORM=wayland to run on Wayland anyway.\n"
     ]
    }
   ],
   "source": [
    "for img in (\n",
    "        # 'photo_6118490984477211115_y.jpg',\n",
    "        # 'photo_6118490984477211116_y.jpg',\n",
    "        # 'photo_6118490984477211117_y.jpg',\n",
    "        # 'photo_6118490984477211118_y.jpg',\n",
    "        # 'photo_6118490984477211119_y.jpg',\n",
    "        # 'photo_6118490984477211120 _y.jpg',\n",
    "        'photo_6118490984477211121_y.jpg',\n",
    "        # \"digit.jpg\",\n",
    "):\n",
    "    image = cv2.imread(img)\n",
    "    im_gray = cv2.cvtColor(image,cv2.COLOR_BGR2GRAY)\n",
    "    im_blur = cv2.GaussianBlur(im_gray,(5,5),0)\n",
    "    im,thre = cv2.threshold(im_blur,90,255,cv2.THRESH_BINARY_INV)\n",
    "    contours, hierachy = cv2.findContours(thre,cv2.RETR_EXTERNAL,cv2.CHAIN_APPROX_SIMPLE)\n",
    "    rects = [cv2.boundingRect(cnt) for cnt in contours]\n",
    "    for i in contours:\n",
    "        (x,y,w,h) = cv2.boundingRect(i)\n",
    "        cv2.rectangle(image,(x,y),(x+w,y+h),(0,255,0),3)\n",
    "        roi = thre[y:y+h,x:x+w]\n",
    "        roi = np.pad(roi,(20,20),'constant',constant_values=(0,0))\n",
    "        roi = cv2.resize(roi, (28, 28), interpolation=cv2.INTER_AREA)\n",
    "        roi = cv2.dilate(roi, (3, 3))\n",
    "        \n",
    "        # Calculate the HOG features\n",
    "        roi_hog_fd = hog(roi, orientations=9, pixels_per_cell=(14, 14), cells_per_block=(1, 1),block_norm=\"L2\")\n",
    "        nbr = model.predict(np.array([roi_hog_fd], np.float32))\n",
    "        cv2.putText(image, str(int(nbr[0])), (x, y),cv2.FONT_HERSHEY_DUPLEX, 2, (0, 255, 255), 3)\n",
    "    cv2.imshow(\"image\",image)\n",
    "    # cv2.imwrite(\"image_pand.jpg\",image)\n",
    "    cv2.waitKey()\n",
    "cv2.destroyAllWindows()"
   ]
  }
 ],
 "metadata": {
  "kernelspec": {
   "display_name": "Python 3 (ipykernel)",
   "language": "python",
   "name": "python3"
  },
  "language_info": {
   "codemirror_mode": {
    "name": "ipython",
    "version": 3
   },
   "file_extension": ".py",
   "mimetype": "text/x-python",
   "name": "python",
   "nbconvert_exporter": "python",
   "pygments_lexer": "ipython3",
   "version": "3.8.18"
  }
 },
 "nbformat": 4,
 "nbformat_minor": 5
}
